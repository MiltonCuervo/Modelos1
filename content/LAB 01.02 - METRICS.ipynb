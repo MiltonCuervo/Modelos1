{
  "cells": [
    {
      "cell_type": "markdown",
      "metadata": {
        "id": "MZWy3Z0gAdGL"
      },
      "source": [
        "# LAB 01.02 - Metrics"
      ]
    },
    {
      "cell_type": "code",
      "execution_count": 1,
      "metadata": {
        "id": "EiOCZOWZAdGO",
        "outputId": "0608720e-b2cf-417b-85e8-3715235fa5b6",
        "colab": {
          "base_uri": "https://localhost:8080/",
          "height": 76
        }
      },
      "outputs": [
        {
          "output_type": "display_data",
          "data": {
            "text/plain": [
              "<IPython.core.display.HTML object>"
            ],
            "text/html": [
              "\n",
              "<meta name=\"google-signin-client_id\"\n",
              "      content=\"461673936472-kdjosv61up3ac1ajeuq6qqu72upilmls.apps.googleusercontent.com\"/>\n",
              "<script src=\"https://apis.google.com/js/client:platform.js?onload=google_button_start\"></script>\n",
              "    "
            ]
          },
          "metadata": {}
        },
        {
          "output_type": "stream",
          "name": "stdout",
          "text": [
            "replicating local resources\n"
          ]
        },
        {
          "output_type": "execute_result",
          "data": {
            "text/plain": [
              "<IPython.core.display.HTML object>"
            ],
            "text/html": [
              "<h3>See <a href='https://m5knaekxo6.execute-api.us-west-2.amazonaws.com/dev-v0001/rlxmooc/web/login' target='_blank'>my courses and progress</a></h2>"
            ]
          },
          "metadata": {},
          "execution_count": 1
        }
      ],
      "source": [
        "!wget --no-cache -O init.py -q https://raw.githubusercontent.com/rramosp/ai4eng.v1/main/content/init.py\n",
        "import init, inspect; init.init(force_download=False); init.get_weblink()\n"
      ]
    },
    {
      "cell_type": "code",
      "execution_count": 16,
      "metadata": {
        "id": "squE4GokAdGR",
        "outputId": "c0c69236-bec1-4f6b-e9df-6b25beb249b2",
        "colab": {
          "base_uri": "https://localhost:8080/",
          "height": 74,
          "referenced_widgets": [
            "be2984a9792b4d5092586926e6666ac9",
            "e9620bfc976f4aaba715a507580ba4a4",
            "04bf310d9cd345c8b0f019bff764b70d",
            "af726a4532524e36902764728ff1cd6c",
            "c7959f57962245b39427cbbb50a9f024",
            "fa7982da260d4d658311ad48013b4ff0",
            "57b0f56678c943029e75589c9945b067",
            "25fda76c8dc04cfb8f6b05fddb73fa13",
            "b9a12be171f945c0b9590b83950a13fa",
            "2fd7df54d80145b580525f9a2fca503a",
            "01e91f14b41941ec9c6230748425369e",
            "252064ab14184c3ba8bac8528018cc7c",
            "36fb9f5daf88468e8865570348aa149f",
            "38ccc4986fd349678dea46bf9359fe25",
            "2a64e95efa6c478b8c01df8396a47708",
            "90c5d1d9bcf440cbb8264da5673de283",
            "f27a08f38b554b54afebb29716531942",
            "fae7f213ab65420eb7a5af1fb9d38814",
            "8f0a2974c37d443a86b988fc0c4fe698"
          ]
        }
      },
      "outputs": [
        {
          "output_type": "stream",
          "name": "stdout",
          "text": [
            "logging in as milton.cuervo@udea.edu.co... please wait\n",
            "you are registered in the following sessions of this course\n",
            "\n",
            "     ['2025.1', 'open']\n",
            "\n",
            "and you have explicitly requested session '2025.1'.\n",
            "your grades will be reported in that session\n",
            "\n",
            "-------------\n",
            "using course session ai4eng.v1.udea.r3::2025.1\n",
            "success!! you are logged in\n",
            "-------------\n"
          ]
        }
      ],
      "source": [
        "from local.lib.rlxmoocapi import submit, session\n",
        "session.LoginSequence(endpoint=init.endpoint, course_id=init.course_id, session_id=\"2025.1\", lab_id=\"L01.02\", varname=\"student\");"
      ]
    },
    {
      "cell_type": "markdown",
      "metadata": {
        "id": "mIHLySJ1AdGT"
      },
      "source": [
        "## General remark\n",
        "\n",
        "You do not need to use Python to solve the problems in this notebook, you can use any tool of your choice (Excel, etc.), including **pen and paper**. But\n",
        "\n",
        "### If you want to try out in Python\n",
        "\n",
        "- `numpy` is the Python library used for vectors\n",
        "- there are operations that take a vector and produce another vector (i.e. `np.log`)\n",
        "- there are operations that take a vector and procude a number (i.e. `np.mean`)\n",
        "- there are operations that take two vectors and produce a number (see the **HINTs** below)\n",
        "- etc.\n",
        "\n",
        "For instance"
      ]
    },
    {
      "cell_type": "code",
      "execution_count": 17,
      "metadata": {
        "scrolled": true,
        "id": "DEdm0pSwAdGU",
        "outputId": "ddff0c20-43a5-48c2-8649-ef5cbfbb1e40",
        "colab": {
          "base_uri": "https://localhost:8080/"
        }
      },
      "outputs": [
        {
          "output_type": "stream",
          "name": "stdout",
          "text": [
            "the log   = [0.         0.69314718 1.09861229 1.38629436]\n",
            "the mean  = 2.5\n",
            "times two = [2 4 6 8]\n"
          ]
        }
      ],
      "source": [
        "import numpy as np\n",
        "\n",
        "v1 = np.array([1,2,3,4])\n",
        "\n",
        "# the log of each element of the vector\n",
        "print ( \"the log   =\", np.log(v1)  )\n",
        "\n",
        "# the mean of all elements of the vector\n",
        "print ( \"the mean  =\",  np.mean(v1)  )\n",
        "\n",
        "# multiply all elements of a vector with a scalar\n",
        "print (\"times two =\", 2*v1)"
      ]
    },
    {
      "cell_type": "markdown",
      "metadata": {
        "id": "DqAU9abEAdGW"
      },
      "source": [
        "you can always check the type of any variable"
      ]
    },
    {
      "cell_type": "code",
      "execution_count": 18,
      "metadata": {
        "id": "KYC2Z_AmAdGY",
        "outputId": "6354f33e-0661-4c90-8376-ebea41869fe6",
        "colab": {
          "base_uri": "https://localhost:8080/"
        }
      },
      "outputs": [
        {
          "output_type": "execute_result",
          "data": {
            "text/plain": [
              "(numpy.ndarray, float)"
            ]
          },
          "metadata": {},
          "execution_count": 18
        }
      ],
      "source": [
        "a = 2.0\n",
        "type(v1), type(a)"
      ]
    },
    {
      "cell_type": "markdown",
      "metadata": {
        "id": "JBFwLoy-AdGa"
      },
      "source": [
        "## Task 01. Accuracy\n",
        "\n",
        "Compute the percentage of correct predictions **accuracy** (see [here](https://en.wikipedia.org/wiki/Sensitivity_and_specificity#Definitions)) for the following model output (`predicted`) and ground truth (`actual`).\n",
        "\n",
        "Execute the following cell to generate the data from which you must compute the metric. You may compute the metric implementing python code, or manually, or copy/pasting the actual and predicted data in Excel, etc.\n",
        "\n",
        "**CHALLENGE**: use Python with [`sklearn.metrics.accuracy_score`](https://scikit-learn.org/stable/modules/generated/sklearn.metrics.accuracy_score.html#sklearn.metrics.accuracy_score)\n",
        "\n",
        "\n",
        "Observe that every time you execute the following cell, **a different set of values** is generated. You will have to compute the metric **for the values that you see**. If you run the cell again you will have to compute your metric value again."
      ]
    },
    {
      "cell_type": "code",
      "execution_count": 19,
      "metadata": {
        "id": "cdQdilz0AdGb",
        "outputId": "12ebe76a-9ba1-4b01-e92c-42fb5a2eae8c",
        "colab": {
          "base_uri": "https://localhost:8080/"
        }
      },
      "outputs": [
        {
          "output_type": "stream",
          "name": "stdout",
          "text": [
            "actual    0, 1, 1, 0, 1, 1, 1, 1, 1, 0, 1, 0, 1, 1, 0, 1, 0, 0, 1, 1\n",
            "predicted 0, 0, 0, 0, 0, 0, 0, 0, 0, 0, 0, 0, 0, 1, 0, 0, 0, 0, 0, 0\n"
          ]
        }
      ],
      "source": [
        "import numpy as np\n",
        "t1_actual    = np.random.randint(2, size=20)\n",
        "t1_predicted = np.abs(t1_actual*(np.random.random(size=20)>(np.random.random()*.9+.05)).astype(int))\n",
        "print (\"actual   \", \", \".join([str(i) for i in t1_actual]))\n",
        "print (\"predicted\", \", \".join([str(i) for i in t1_predicted]))"
      ]
    },
    {
      "cell_type": "markdown",
      "metadata": {
        "id": "71HpHLWLAdGc"
      },
      "source": [
        "Assign the value of your computation to the `accuracy` variable, **with three decimal places**"
      ]
    },
    {
      "cell_type": "code",
      "execution_count": 20,
      "metadata": {
        "id": "oQIfM2m5AdGd",
        "outputId": "9dbd51a1-61ca-44be-9386-f19a90671886",
        "colab": {
          "base_uri": "https://localhost:8080/"
        }
      },
      "outputs": [
        {
          "output_type": "stream",
          "name": "stdout",
          "text": [
            "0.4\n"
          ]
        }
      ],
      "source": [
        "accuracy = np.mean(t1_actual == t1_predicted)\n",
        "print (accuracy)"
      ]
    },
    {
      "cell_type": "markdown",
      "metadata": {
        "id": "WjHShaQyAdGe"
      },
      "source": [
        "#### submit your answer"
      ]
    },
    {
      "cell_type": "code",
      "execution_count": 21,
      "metadata": {
        "id": "oQHmIqAYAdGe",
        "outputId": "ace7cdbf-9d2e-489e-cc86-dee91b6ea831",
        "colab": {
          "base_uri": "https://localhost:8080/",
          "height": 111
        }
      },
      "outputs": [
        {
          "output_type": "display_data",
          "data": {
            "text/plain": [
              "<IPython.core.display.HTML object>"
            ],
            "text/html": [
              "\n",
              "                    <b>task_01 submitted.</b> <b><font color=\"blue\">your grade is 5</font></b> \n",
              "                    <p/><pre>----- grader message -------</pre><b>correct</b><pre>----------------------------</pre>\n",
              "                    <p/><p/>\n",
              "                    <div style=\"font-size:10px\"><b>SUBMISSION CODE</b> Crs6yJxmF8NBn2kIPE5QJqhYL9ktWTCl4WQ3zaCCpZDNxzHLNqh9/iFrjZ/h89vpG+qAa2MjajRSK6ipoZVZlH4KA3dX7Jpsxfb6qD0hZ107nEVLRGzMAuB9wb9NOwEAJZhAQJGfyK96QU3ogzkz1X0JCODqXCYnUTUP9Rx813s=</div>\n",
              "                    "
            ]
          },
          "metadata": {}
        }
      ],
      "source": [
        "student.submit_task(globals(), task_id=\"task_01\");"
      ]
    },
    {
      "cell_type": "markdown",
      "metadata": {
        "id": "xzjD0aT8AdGf"
      },
      "source": [
        "## Task 2: Sensitivity\n",
        "\n",
        "Compute the sensitivity metric [aka the _True Positive Rate_ or _Recall_ see [Sensitivity on Wikipedia](https://en.wikipedia.org/wiki/Sensitivity_and_specificity)] for the following model output (`predicted`) and ground truth (`actual`)\n",
        "\n",
        "Execute the following cell to generate the data from which you must compute the metric. You may compute the metric implementing python code, or manually, or copy/pasting the actual and predicted data in Excel, etc.\n",
        "\n",
        "**Challenge**: Use Python [`sklearn.metrics.recall_score`](https://scikit-learn.org/stable/modules/generated/sklearn.metrics.recall_score.html)\n",
        "\n",
        "\n",
        "Observe that every time you execute the following cell, **a different set of values** is generated. You will have to compute the metric **for the values that you see**. If you run the cell again you will have to compute your metric value again."
      ]
    },
    {
      "cell_type": "code",
      "execution_count": 22,
      "metadata": {
        "id": "gVNf6eifAdGg",
        "outputId": "26dc413b-d361-4895-ab33-5bb7c9a9ad8c",
        "colab": {
          "base_uri": "https://localhost:8080/"
        }
      },
      "outputs": [
        {
          "output_type": "stream",
          "name": "stdout",
          "text": [
            "actual    1, 0, 0, 0, 0, 1, 1, 1, 0, 0, 0, 0, 0, 0, 1, 1, 0, 1, 0, 0\n",
            "predicted 0, 1, 1, 1, 0, 1, 1, 1, 0, 0, 0, 1, 1, 0, 0, 1, 0, 1, 1, 1\n"
          ]
        }
      ],
      "source": [
        "import numpy as np\n",
        "t2_predicted = np.random.randint(2, size=20)\n",
        "t2_actual = np.random.randint(2, size=20)\n",
        "t2_predicted[np.argwhere(t2_actual==1)[0][0]]=0\n",
        "print (\"actual   \", \", \".join([str(i) for i in t2_actual]))\n",
        "print (\"predicted\", \", \".join([str(i) for i in t2_predicted]))"
      ]
    },
    {
      "cell_type": "markdown",
      "metadata": {
        "id": "z-7s-miGAdGg"
      },
      "source": [
        "Assign the value of your computation to the `tpr` variable **with three decimal places**"
      ]
    },
    {
      "cell_type": "code",
      "source": [
        "def positive_rate(y,y_predict):\n",
        "  tp=0\n",
        "  fp=0\n",
        "  for i in range(len(y)):\n",
        "    if y[i]==1 and y_predict[i]==1:\n",
        "      tp+=1\n",
        "    elif y[i]==1 and y_predict[i]==0:\n",
        "      fp+=1\n",
        "  return tp/(tp+fp)"
      ],
      "metadata": {
        "id": "2cN_3dGpC6YH"
      },
      "execution_count": 23,
      "outputs": []
    },
    {
      "cell_type": "code",
      "execution_count": 24,
      "metadata": {
        "id": "NWuO5ScnAdGg",
        "outputId": "de8f02d2-e308-4065-8e86-fd098719de4e",
        "colab": {
          "base_uri": "https://localhost:8080/"
        }
      },
      "outputs": [
        {
          "output_type": "execute_result",
          "data": {
            "text/plain": [
              "0.7142857142857143"
            ]
          },
          "metadata": {},
          "execution_count": 24
        }
      ],
      "source": [
        "from sklearn.metrics import recall_score # Import the recall_score function\n",
        "\n",
        "tpr = recall_score(t2_actual, t2_predicted, average='binary')\n",
        "tpr"
      ]
    },
    {
      "cell_type": "code",
      "source": [
        "tpr =positive_rate(t2_actual, t2_predicted)\n",
        "tpr"
      ],
      "metadata": {
        "id": "AiPNOvd9C_uP",
        "outputId": "8779b06d-ace7-4a75-b31e-e89939ac6148",
        "colab": {
          "base_uri": "https://localhost:8080/"
        }
      },
      "execution_count": 25,
      "outputs": [
        {
          "output_type": "execute_result",
          "data": {
            "text/plain": [
              "0.7142857142857143"
            ]
          },
          "metadata": {},
          "execution_count": 25
        }
      ]
    },
    {
      "cell_type": "markdown",
      "metadata": {
        "id": "tXD9YKFOAdGh"
      },
      "source": [
        "#### submit your answer"
      ]
    },
    {
      "cell_type": "code",
      "execution_count": 26,
      "metadata": {
        "scrolled": true,
        "id": "__rQFOljAdGi",
        "outputId": "4e4039a3-cf8a-4980-9198-98292d337c2d",
        "colab": {
          "base_uri": "https://localhost:8080/",
          "height": 111
        }
      },
      "outputs": [
        {
          "output_type": "display_data",
          "data": {
            "text/plain": [
              "<IPython.core.display.HTML object>"
            ],
            "text/html": [
              "\n",
              "                    <b>task_02 submitted.</b> <b><font color=\"blue\">your grade is 5</font></b> \n",
              "                    <p/><pre>----- grader message -------</pre><b>correct</b><pre>----------------------------</pre>\n",
              "                    <p/><p/>\n",
              "                    <div style=\"font-size:10px\"><b>SUBMISSION CODE</b> h0eBGU/0J17LKA4PhhlSreVOstVEIfVa1QI7RvoOAFoehuiKAEa5F1lJ4kdPF8RWOppXSHDEQTcR9MlA9qkSQBuAi3vJKp6nMwSbmsyDlxXhgfTQeM2t/RcBr8rUxz1dULCiSdO4cBKLZ5iKzxgxMdZtcteYF+JS69N64gWjyDM=</div>\n",
              "                    "
            ]
          },
          "metadata": {}
        }
      ],
      "source": [
        "student.submit_task(globals(), task_id=\"task_02\");"
      ]
    },
    {
      "cell_type": "markdown",
      "metadata": {
        "id": "LvHCOGeOAdGi"
      },
      "source": [
        "## Task 3: Evaluation in New York City Taxi Trip Duration Kaggle Competition\n",
        "\n",
        "Understand the data and the evaluation metric (**Root Mean Squared Logarithmic Error**, RMSLE) of the following Kaggle competition\n",
        "\n",
        "- [https://www.kaggle.com/c/nyc-taxi-trip-duration/](https://www.kaggle.com/c/nyc-taxi-trip-duration/)\n",
        "\n",
        "Observe that this competition is a **regression task** as we are measuring the difference in prediction with respect to the actual.\n",
        "\n",
        "For instance, the following model predictions and ground truth:\n",
        "\n",
        "    actual    [66 37 22]\n",
        "    predicted [79 51 67]\n",
        "    \n",
        "produce a **RMSLE** of 0.66 aprox.\n",
        "\n",
        "Execute the following cell to generate the data from which you must compute the metric. You may compute the metric implementing python code, or manually, or copy/pasting the actual and predicted data in Excel, etc.\n",
        "\n",
        "**Challenge**: For python use numpy function `np.log` or `np.log1p`\n",
        "\n",
        "Observe that every time you execute the following cell, **a different set of values** is generated. You will have to compute the metric **for the values that you see**. If you run the cell again you will have to compute your metric value again."
      ]
    },
    {
      "cell_type": "code",
      "execution_count": 27,
      "metadata": {
        "id": "H4PLF6N8AdGi",
        "outputId": "59ccc110-1069-43df-944c-431fb26f7523",
        "colab": {
          "base_uri": "https://localhost:8080/"
        }
      },
      "outputs": [
        {
          "output_type": "stream",
          "name": "stdout",
          "text": [
            "actual    [90 69 75 44 84 97 50 61 56 87 75 85 85 57 85]\n",
            "predicted [89 85 21 55 79 30 20 37 62 59 37 66 66 61 28]\n"
          ]
        }
      ],
      "source": [
        "t3_actual    = np.random.randint(80,size=15)+20\n",
        "t3_predicted = np.random.randint(80,size=15)+20\n",
        "print (\"actual   \", t3_actual)\n",
        "print (\"predicted\", t3_predicted)"
      ]
    },
    {
      "cell_type": "markdown",
      "metadata": {
        "id": "aqdQIW-_AdGj"
      },
      "source": [
        "Assign the value of your computation to the `rmsle` variable **with three decimal places**"
      ]
    },
    {
      "cell_type": "code",
      "execution_count": 28,
      "metadata": {
        "id": "uyihGJvHAdGj",
        "outputId": "a3bf9526-3ebe-4482-f997-40b7d9fd8f4b",
        "colab": {
          "base_uri": "https://localhost:8080/"
        }
      },
      "outputs": [
        {
          "output_type": "stream",
          "name": "stdout",
          "text": [
            "\n",
            "RMSLE: 0.6288\n"
          ]
        }
      ],
      "source": [
        "from sklearn.metrics import mean_squared_log_error\n",
        "\n",
        "def rmsle(y_true, y_pred):\n",
        "    # Asegurarse de que no haya valores negativos\n",
        "    y_true = np.maximum(0, y_true)\n",
        "    y_pred = np.maximum(0, y_pred)\n",
        "\n",
        "    # Calcular el error logarítmico cuadrático medio y sacar su raíz\n",
        "    return np.sqrt(mean_squared_log_error(y_true, y_pred))\n",
        "\n",
        "# Calcular e imprimir el resultado\n",
        "rmsle= rmsle(t3_actual, t3_predicted)\n",
        "print(f\"\\nRMSLE: {rmsle:.4f}\")"
      ]
    },
    {
      "cell_type": "markdown",
      "metadata": {
        "id": "O1_Qr7YXAdGk"
      },
      "source": [
        "#### submit your answer"
      ]
    },
    {
      "cell_type": "code",
      "execution_count": 29,
      "metadata": {
        "scrolled": false,
        "id": "dAx5mV_zAdGk",
        "outputId": "f58ff16b-4410-4d12-c51d-fc26d7a99c78",
        "colab": {
          "base_uri": "https://localhost:8080/",
          "height": 111
        }
      },
      "outputs": [
        {
          "output_type": "display_data",
          "data": {
            "text/plain": [
              "<IPython.core.display.HTML object>"
            ],
            "text/html": [
              "\n",
              "                    <b>task_03 submitted.</b> <b><font color=\"blue\">your grade is 5</font></b> \n",
              "                    <p/><pre>----- grader message -------</pre><b>correct</b><pre>----------------------------</pre>\n",
              "                    <p/><p/>\n",
              "                    <div style=\"font-size:10px\"><b>SUBMISSION CODE</b> 3pMk8U4x31+ZfEPZSIFYcNr+hp5j2lId3Pkf57Ygt5GfmzYFgzzaJ93ePEk2hvJHplyTrZ2x59p1esqgrGVmBOd/im3gJREba+UITlKxiiKFpvbsyTZjkVlbg9YL7bFcDldjEb/5L2g95SopvzcdcfGTv0IpZjNOrLlTShIDAqk=</div>\n",
              "                    "
            ]
          },
          "metadata": {}
        }
      ],
      "source": [
        "student.submit_task(globals(), task_id=\"task_03\");"
      ]
    },
    {
      "cell_type": "markdown",
      "metadata": {
        "id": "PHqJdIapAdGk"
      },
      "source": [
        "## Task 4: Evaluation in Shelter Animal Outcomes Kaggle Competition\n",
        "\n",
        "Understand the data and the evaluation metric (**Multiclass Logaritmic Loss**, _logloss_) of the following Kaggle competition\n",
        "\n",
        "- [https://www.kaggle.com/c/shelter-animal-outcomes/](https://www.kaggle.com/c/shelter-animal-outcomes/)\n",
        "\n",
        "Observe that this competition is a **classification task with 5 classes** and, for each item, the model produces a probability for each class. Classes are numbered from 0 to 4.\n",
        "\n",
        "For instance, the following represents the model output for **three items**\n",
        "\n",
        "    [[0.17 0.27 0.03 0.31 0.21]\n",
        "     [0.09 0.44 0.02 0.15 0.3 ]\n",
        "     [0.26 0.18 0.25 0.2  0.11]]\n",
        "     \n",
        "Where the classes with gretest probability assigned by the model are\n",
        "\n",
        "- class 3 for the first item (with 0.31 probability)\n",
        "- class 1 for the second item (with 0.44 probability)\n",
        "- class 0 for the third item (with 0.26 probability)\n",
        "\n",
        "The class labels are expressed as a similar matrix, but with 0/1\n",
        "For instance, the ground truth for the corresponding three items above, could be:\n",
        "\n",
        "    [[0 0 0 1 0]\n",
        "     [0 0 1 0 0]\n",
        "     [1 0 0 0 0]]\n",
        "\n",
        "and will produce a **logloss** of approx 2.14\n",
        "\n",
        "Execute the following cell to generate the data from which you must compute the metric. You may compute the metric implementing python code, or manually, or copy/pasting the actual and predicted data in Excel, etc."
      ]
    },
    {
      "cell_type": "code",
      "execution_count": 30,
      "metadata": {
        "id": "auIBHa-9AdGk",
        "outputId": "fdf35e3a-1837-4dfe-98ae-a4805b804a49",
        "colab": {
          "base_uri": "https://localhost:8080/"
        }
      },
      "outputs": [
        {
          "output_type": "stream",
          "name": "stdout",
          "text": [
            "actual\n",
            "[[0 0 1 0 0]\n",
            " [0 0 1 0 0]\n",
            " [0 0 0 0 1]\n",
            " [0 0 1 0 0]\n",
            " [0 0 1 0 0]\n",
            " [1 0 0 0 0]\n",
            " [1 0 0 0 0]]\n",
            "\n",
            "predicted\n",
            "[[0.13 0.22 0.24 0.24 0.18]\n",
            " [0.2  0.13 0.25 0.2  0.22]\n",
            " [0.17 0.15 0.23 0.25 0.2 ]\n",
            " [0.23 0.28 0.11 0.17 0.21]\n",
            " [0.23 0.16 0.31 0.19 0.11]\n",
            " [0.29 0.27 0.14 0.11 0.19]\n",
            " [0.23 0.22 0.21 0.18 0.16]]\n"
          ]
        }
      ],
      "source": [
        "import numpy as np\n",
        "\n",
        "t4_predicted = np.random.random(size=(7,5)).T+0.5\n",
        "t4_predicted = np.round((t4_predicted/np.sum(t4_predicted,axis=0)),2).T\n",
        "\n",
        "t4_actual = np.eye(5)[np.random.randint(5,size=len(t4_predicted))].astype(int)\n",
        "\n",
        "print (\"actual\")\n",
        "print (t4_actual)\n",
        "print (\"\\npredicted\")\n",
        "print (t4_predicted)"
      ]
    },
    {
      "cell_type": "markdown",
      "metadata": {
        "id": "resfxeheAdGl"
      },
      "source": [
        "Assign the value of your computation to the `logloss` variable **with three decimal places**"
      ]
    },
    {
      "cell_type": "code",
      "execution_count": 31,
      "metadata": {
        "id": "s1cADjFyAdGl",
        "outputId": "295e5bf6-fa09-4452-ffee-99062f7e73f9",
        "colab": {
          "base_uri": "https://localhost:8080/"
        }
      },
      "outputs": [
        {
          "output_type": "stream",
          "name": "stdout",
          "text": [
            "\n",
            "Log Loss: 1.5013\n"
          ]
        },
        {
          "output_type": "stream",
          "name": "stderr",
          "text": [
            "/usr/local/lib/python3.11/dist-packages/sklearn/metrics/_classification.py:3001: UserWarning: The y_pred values do not sum to one. Make sure to pass probabilities.\n",
            "  warnings.warn(\n"
          ]
        }
      ],
      "source": [
        "from sklearn.metrics import log_loss\n",
        "logloss = log_loss(t4_actual, t4_predicted)\n",
        "print(f\"\\nLog Loss: {logloss:.4f}\")"
      ]
    },
    {
      "cell_type": "markdown",
      "metadata": {
        "id": "Xz51U_AkAdGm"
      },
      "source": [
        "#### submit your answer"
      ]
    },
    {
      "cell_type": "code",
      "execution_count": 32,
      "metadata": {
        "scrolled": false,
        "id": "COjYLBjbAdGm",
        "outputId": "037e7c41-cd7e-4c71-d157-b0cf86f3b2fc",
        "colab": {
          "base_uri": "https://localhost:8080/",
          "height": 111
        }
      },
      "outputs": [
        {
          "output_type": "display_data",
          "data": {
            "text/plain": [
              "<IPython.core.display.HTML object>"
            ],
            "text/html": [
              "\n",
              "                    <b>task_04 submitted.</b> <b><font color=\"blue\">your grade is 5</font></b> \n",
              "                    <p/><pre>----- grader message -------</pre><b>correct</b><pre>----------------------------</pre>\n",
              "                    <p/><p/>\n",
              "                    <div style=\"font-size:10px\"><b>SUBMISSION CODE</b> 26TxZnlXp4EoHTdwfkGeSCqR1Svi07GeE7Dk6PFlit5vGxjvBbLG2W8JzdD+uqv6qMbcnx1ps24WM5RoM4IpGmFr+B9Iepl4WW2/TNqUyW0Xh6zH8fxrNkS6hfEX9EvQwc3nmgD0mK5gzFpIoJgkqlmoyldwBy7y9D//hxwmtno=</div>\n",
              "                    "
            ]
          },
          "metadata": {}
        }
      ],
      "source": [
        "student.submit_task(globals(), task_id=\"task_04\");"
      ]
    }
  ],
  "metadata": {
    "kernelspec": {
      "display_name": "Python 3",
      "language": "python",
      "name": "python3"
    },
    "language_info": {
      "codemirror_mode": {
        "name": "ipython",
        "version": 3
      },
      "file_extension": ".py",
      "mimetype": "text/x-python",
      "name": "python",
      "nbconvert_exporter": "python",
      "pygments_lexer": "ipython3",
      "version": "3.7.3"
    },
    "colab": {
      "provenance": []
    },
    "widgets": {
      "application/vnd.jupyter.widget-state+json": {
        "be2984a9792b4d5092586926e6666ac9": {
          "model_module": "@jupyter-widgets/controls",
          "model_name": "HBoxModel",
          "model_module_version": "1.5.0",
          "state": {
            "_dom_classes": [],
            "_model_module": "@jupyter-widgets/controls",
            "_model_module_version": "1.5.0",
            "_model_name": "HBoxModel",
            "_view_count": null,
            "_view_module": "@jupyter-widgets/controls",
            "_view_module_version": "1.5.0",
            "_view_name": "HBoxView",
            "box_style": "",
            "children": [
              "IPY_MODEL_e9620bfc976f4aaba715a507580ba4a4",
              "IPY_MODEL_04bf310d9cd345c8b0f019bff764b70d",
              "IPY_MODEL_af726a4532524e36902764728ff1cd6c",
              "IPY_MODEL_c7959f57962245b39427cbbb50a9f024"
            ],
            "layout": "IPY_MODEL_fa7982da260d4d658311ad48013b4ff0"
          }
        },
        "e9620bfc976f4aaba715a507580ba4a4": {
          "model_module": "@jupyter-widgets/controls",
          "model_name": "VBoxModel",
          "model_module_version": "1.5.0",
          "state": {
            "_dom_classes": [],
            "_model_module": "@jupyter-widgets/controls",
            "_model_module_version": "1.5.0",
            "_model_name": "VBoxModel",
            "_view_count": null,
            "_view_module": "@jupyter-widgets/controls",
            "_view_module_version": "1.5.0",
            "_view_name": "VBoxView",
            "box_style": "",
            "children": [
              "IPY_MODEL_57b0f56678c943029e75589c9945b067",
              "IPY_MODEL_25fda76c8dc04cfb8f6b05fddb73fa13"
            ],
            "layout": "IPY_MODEL_b9a12be171f945c0b9590b83950a13fa"
          }
        },
        "04bf310d9cd345c8b0f019bff764b70d": {
          "model_module": "@jupyter-widgets/controls",
          "model_name": "ButtonModel",
          "model_module_version": "1.5.0",
          "state": {
            "_dom_classes": [
              "login_button"
            ],
            "_model_module": "@jupyter-widgets/controls",
            "_model_module_version": "1.5.0",
            "_model_name": "ButtonModel",
            "_view_count": null,
            "_view_module": "@jupyter-widgets/controls",
            "_view_module_version": "1.5.0",
            "_view_name": "ButtonView",
            "button_style": "",
            "description": "Login with email",
            "disabled": false,
            "icon": "",
            "layout": "IPY_MODEL_2fd7df54d80145b580525f9a2fca503a",
            "style": "IPY_MODEL_01e91f14b41941ec9c6230748425369e",
            "tooltip": ""
          }
        },
        "af726a4532524e36902764728ff1cd6c": {
          "model_module": "@jupyter-widgets/controls",
          "model_name": "HTMLModel",
          "model_module_version": "1.5.0",
          "state": {
            "_dom_classes": [],
            "_model_module": "@jupyter-widgets/controls",
            "_model_module_version": "1.5.0",
            "_model_name": "HTMLModel",
            "_view_count": null,
            "_view_module": "@jupyter-widgets/controls",
            "_view_module_version": "1.5.0",
            "_view_name": "HTMLView",
            "description": "",
            "description_tooltip": null,
            "layout": "IPY_MODEL_252064ab14184c3ba8bac8528018cc7c",
            "placeholder": "​",
            "style": "IPY_MODEL_36fb9f5daf88468e8865570348aa149f",
            "value": "<center><big>or</big></center>"
          }
        },
        "c7959f57962245b39427cbbb50a9f024": {
          "model_module": "@jupyter-widgets/controls",
          "model_name": "ButtonModel",
          "model_module_version": "1.5.0",
          "state": {
            "_dom_classes": [
              "google_button"
            ],
            "_model_module": "@jupyter-widgets/controls",
            "_model_module_version": "1.5.0",
            "_model_name": "ButtonModel",
            "_view_count": null,
            "_view_module": "@jupyter-widgets/controls",
            "_view_module_version": "1.5.0",
            "_view_name": "ButtonView",
            "button_style": "",
            "description": "Login with Google",
            "disabled": false,
            "icon": "",
            "layout": "IPY_MODEL_38ccc4986fd349678dea46bf9359fe25",
            "style": "IPY_MODEL_2a64e95efa6c478b8c01df8396a47708",
            "tooltip": ""
          }
        },
        "fa7982da260d4d658311ad48013b4ff0": {
          "model_module": "@jupyter-widgets/base",
          "model_name": "LayoutModel",
          "model_module_version": "1.2.0",
          "state": {
            "_model_module": "@jupyter-widgets/base",
            "_model_module_version": "1.2.0",
            "_model_name": "LayoutModel",
            "_view_count": null,
            "_view_module": "@jupyter-widgets/base",
            "_view_module_version": "1.2.0",
            "_view_name": "LayoutView",
            "align_content": null,
            "align_items": null,
            "align_self": null,
            "border": null,
            "bottom": null,
            "display": null,
            "flex": null,
            "flex_flow": null,
            "grid_area": null,
            "grid_auto_columns": null,
            "grid_auto_flow": null,
            "grid_auto_rows": null,
            "grid_column": null,
            "grid_gap": null,
            "grid_row": null,
            "grid_template_areas": null,
            "grid_template_columns": null,
            "grid_template_rows": null,
            "height": null,
            "justify_content": null,
            "justify_items": null,
            "left": null,
            "margin": null,
            "max_height": null,
            "max_width": null,
            "min_height": null,
            "min_width": null,
            "object_fit": null,
            "object_position": null,
            "order": null,
            "overflow": null,
            "overflow_x": null,
            "overflow_y": null,
            "padding": null,
            "right": null,
            "top": null,
            "visibility": null,
            "width": null
          }
        },
        "57b0f56678c943029e75589c9945b067": {
          "model_module": "@jupyter-widgets/controls",
          "model_name": "TextModel",
          "model_module_version": "1.5.0",
          "state": {
            "_dom_classes": [],
            "_model_module": "@jupyter-widgets/controls",
            "_model_module_version": "1.5.0",
            "_model_name": "TextModel",
            "_view_count": null,
            "_view_module": "@jupyter-widgets/controls",
            "_view_module_version": "1.5.0",
            "_view_name": "TextView",
            "continuous_update": true,
            "description": "email",
            "description_tooltip": null,
            "disabled": false,
            "layout": "IPY_MODEL_90c5d1d9bcf440cbb8264da5673de283",
            "placeholder": "​",
            "style": "IPY_MODEL_f27a08f38b554b54afebb29716531942",
            "value": ""
          }
        },
        "25fda76c8dc04cfb8f6b05fddb73fa13": {
          "model_module": "@jupyter-widgets/controls",
          "model_name": "PasswordModel",
          "model_module_version": "1.5.0",
          "state": {
            "_dom_classes": [],
            "_model_module": "@jupyter-widgets/controls",
            "_model_module_version": "1.5.0",
            "_model_name": "PasswordModel",
            "_view_count": null,
            "_view_module": "@jupyter-widgets/controls",
            "_view_module_version": "1.5.0",
            "_view_name": "PasswordView",
            "continuous_update": true,
            "description": "password",
            "description_tooltip": null,
            "disabled": false,
            "layout": "IPY_MODEL_fae7f213ab65420eb7a5af1fb9d38814",
            "placeholder": "​",
            "style": "IPY_MODEL_8f0a2974c37d443a86b988fc0c4fe698",
            "value": ""
          }
        },
        "b9a12be171f945c0b9590b83950a13fa": {
          "model_module": "@jupyter-widgets/base",
          "model_name": "LayoutModel",
          "model_module_version": "1.2.0",
          "state": {
            "_model_module": "@jupyter-widgets/base",
            "_model_module_version": "1.2.0",
            "_model_name": "LayoutModel",
            "_view_count": null,
            "_view_module": "@jupyter-widgets/base",
            "_view_module_version": "1.2.0",
            "_view_name": "LayoutView",
            "align_content": null,
            "align_items": null,
            "align_self": null,
            "border": null,
            "bottom": null,
            "display": null,
            "flex": null,
            "flex_flow": null,
            "grid_area": null,
            "grid_auto_columns": null,
            "grid_auto_flow": null,
            "grid_auto_rows": null,
            "grid_column": null,
            "grid_gap": null,
            "grid_row": null,
            "grid_template_areas": null,
            "grid_template_columns": null,
            "grid_template_rows": null,
            "height": null,
            "justify_content": null,
            "justify_items": null,
            "left": null,
            "margin": null,
            "max_height": null,
            "max_width": null,
            "min_height": null,
            "min_width": null,
            "object_fit": null,
            "object_position": null,
            "order": null,
            "overflow": null,
            "overflow_x": null,
            "overflow_y": null,
            "padding": null,
            "right": null,
            "top": null,
            "visibility": null,
            "width": null
          }
        },
        "2fd7df54d80145b580525f9a2fca503a": {
          "model_module": "@jupyter-widgets/base",
          "model_name": "LayoutModel",
          "model_module_version": "1.2.0",
          "state": {
            "_model_module": "@jupyter-widgets/base",
            "_model_module_version": "1.2.0",
            "_model_name": "LayoutModel",
            "_view_count": null,
            "_view_module": "@jupyter-widgets/base",
            "_view_module_version": "1.2.0",
            "_view_name": "LayoutView",
            "align_content": null,
            "align_items": null,
            "align_self": null,
            "border": null,
            "bottom": null,
            "display": null,
            "flex": null,
            "flex_flow": null,
            "grid_area": null,
            "grid_auto_columns": null,
            "grid_auto_flow": null,
            "grid_auto_rows": null,
            "grid_column": null,
            "grid_gap": null,
            "grid_row": null,
            "grid_template_areas": null,
            "grid_template_columns": null,
            "grid_template_rows": null,
            "height": "53px",
            "justify_content": null,
            "justify_items": null,
            "left": null,
            "margin": null,
            "max_height": null,
            "max_width": null,
            "min_height": null,
            "min_width": null,
            "object_fit": null,
            "object_position": null,
            "order": null,
            "overflow": null,
            "overflow_x": null,
            "overflow_y": null,
            "padding": null,
            "right": null,
            "top": null,
            "visibility": null,
            "width": "150px"
          }
        },
        "01e91f14b41941ec9c6230748425369e": {
          "model_module": "@jupyter-widgets/controls",
          "model_name": "ButtonStyleModel",
          "model_module_version": "1.5.0",
          "state": {
            "_model_module": "@jupyter-widgets/controls",
            "_model_module_version": "1.5.0",
            "_model_name": "ButtonStyleModel",
            "_view_count": null,
            "_view_module": "@jupyter-widgets/base",
            "_view_module_version": "1.2.0",
            "_view_name": "StyleView",
            "button_color": null,
            "font_weight": ""
          }
        },
        "252064ab14184c3ba8bac8528018cc7c": {
          "model_module": "@jupyter-widgets/base",
          "model_name": "LayoutModel",
          "model_module_version": "1.2.0",
          "state": {
            "_model_module": "@jupyter-widgets/base",
            "_model_module_version": "1.2.0",
            "_model_name": "LayoutModel",
            "_view_count": null,
            "_view_module": "@jupyter-widgets/base",
            "_view_module_version": "1.2.0",
            "_view_name": "LayoutView",
            "align_content": null,
            "align_items": null,
            "align_self": null,
            "border": null,
            "bottom": null,
            "display": null,
            "flex": null,
            "flex_flow": null,
            "grid_area": null,
            "grid_auto_columns": null,
            "grid_auto_flow": null,
            "grid_auto_rows": null,
            "grid_column": null,
            "grid_gap": null,
            "grid_row": null,
            "grid_template_areas": null,
            "grid_template_columns": null,
            "grid_template_rows": null,
            "height": null,
            "justify_content": null,
            "justify_items": null,
            "left": null,
            "margin": null,
            "max_height": null,
            "max_width": null,
            "min_height": null,
            "min_width": null,
            "object_fit": null,
            "object_position": null,
            "order": null,
            "overflow": null,
            "overflow_x": null,
            "overflow_y": null,
            "padding": null,
            "right": null,
            "top": null,
            "visibility": null,
            "width": "100px"
          }
        },
        "36fb9f5daf88468e8865570348aa149f": {
          "model_module": "@jupyter-widgets/controls",
          "model_name": "DescriptionStyleModel",
          "model_module_version": "1.5.0",
          "state": {
            "_model_module": "@jupyter-widgets/controls",
            "_model_module_version": "1.5.0",
            "_model_name": "DescriptionStyleModel",
            "_view_count": null,
            "_view_module": "@jupyter-widgets/base",
            "_view_module_version": "1.2.0",
            "_view_name": "StyleView",
            "description_width": ""
          }
        },
        "38ccc4986fd349678dea46bf9359fe25": {
          "model_module": "@jupyter-widgets/base",
          "model_name": "LayoutModel",
          "model_module_version": "1.2.0",
          "state": {
            "_model_module": "@jupyter-widgets/base",
            "_model_module_version": "1.2.0",
            "_model_name": "LayoutModel",
            "_view_count": null,
            "_view_module": "@jupyter-widgets/base",
            "_view_module_version": "1.2.0",
            "_view_name": "LayoutView",
            "align_content": null,
            "align_items": null,
            "align_self": null,
            "border": null,
            "bottom": null,
            "display": null,
            "flex": null,
            "flex_flow": null,
            "grid_area": null,
            "grid_auto_columns": null,
            "grid_auto_flow": null,
            "grid_auto_rows": null,
            "grid_column": null,
            "grid_gap": null,
            "grid_row": null,
            "grid_template_areas": null,
            "grid_template_columns": null,
            "grid_template_rows": null,
            "height": "53px",
            "justify_content": null,
            "justify_items": null,
            "left": null,
            "margin": null,
            "max_height": null,
            "max_width": null,
            "min_height": null,
            "min_width": null,
            "object_fit": null,
            "object_position": null,
            "order": null,
            "overflow": null,
            "overflow_x": null,
            "overflow_y": null,
            "padding": null,
            "right": null,
            "top": null,
            "visibility": null,
            "width": "200px"
          }
        },
        "2a64e95efa6c478b8c01df8396a47708": {
          "model_module": "@jupyter-widgets/controls",
          "model_name": "ButtonStyleModel",
          "model_module_version": "1.5.0",
          "state": {
            "_model_module": "@jupyter-widgets/controls",
            "_model_module_version": "1.5.0",
            "_model_name": "ButtonStyleModel",
            "_view_count": null,
            "_view_module": "@jupyter-widgets/base",
            "_view_module_version": "1.2.0",
            "_view_name": "StyleView",
            "button_color": null,
            "font_weight": ""
          }
        },
        "90c5d1d9bcf440cbb8264da5673de283": {
          "model_module": "@jupyter-widgets/base",
          "model_name": "LayoutModel",
          "model_module_version": "1.2.0",
          "state": {
            "_model_module": "@jupyter-widgets/base",
            "_model_module_version": "1.2.0",
            "_model_name": "LayoutModel",
            "_view_count": null,
            "_view_module": "@jupyter-widgets/base",
            "_view_module_version": "1.2.0",
            "_view_name": "LayoutView",
            "align_content": null,
            "align_items": null,
            "align_self": null,
            "border": null,
            "bottom": null,
            "display": null,
            "flex": null,
            "flex_flow": null,
            "grid_area": null,
            "grid_auto_columns": null,
            "grid_auto_flow": null,
            "grid_auto_rows": null,
            "grid_column": null,
            "grid_gap": null,
            "grid_row": null,
            "grid_template_areas": null,
            "grid_template_columns": null,
            "grid_template_rows": null,
            "height": "25px",
            "justify_content": null,
            "justify_items": null,
            "left": null,
            "margin": null,
            "max_height": null,
            "max_width": null,
            "min_height": null,
            "min_width": null,
            "object_fit": null,
            "object_position": null,
            "order": null,
            "overflow": null,
            "overflow_x": null,
            "overflow_y": null,
            "padding": null,
            "right": null,
            "top": null,
            "visibility": null,
            "width": "300px"
          }
        },
        "f27a08f38b554b54afebb29716531942": {
          "model_module": "@jupyter-widgets/controls",
          "model_name": "DescriptionStyleModel",
          "model_module_version": "1.5.0",
          "state": {
            "_model_module": "@jupyter-widgets/controls",
            "_model_module_version": "1.5.0",
            "_model_name": "DescriptionStyleModel",
            "_view_count": null,
            "_view_module": "@jupyter-widgets/base",
            "_view_module_version": "1.2.0",
            "_view_name": "StyleView",
            "description_width": ""
          }
        },
        "fae7f213ab65420eb7a5af1fb9d38814": {
          "model_module": "@jupyter-widgets/base",
          "model_name": "LayoutModel",
          "model_module_version": "1.2.0",
          "state": {
            "_model_module": "@jupyter-widgets/base",
            "_model_module_version": "1.2.0",
            "_model_name": "LayoutModel",
            "_view_count": null,
            "_view_module": "@jupyter-widgets/base",
            "_view_module_version": "1.2.0",
            "_view_name": "LayoutView",
            "align_content": null,
            "align_items": null,
            "align_self": null,
            "border": null,
            "bottom": null,
            "display": null,
            "flex": null,
            "flex_flow": null,
            "grid_area": null,
            "grid_auto_columns": null,
            "grid_auto_flow": null,
            "grid_auto_rows": null,
            "grid_column": null,
            "grid_gap": null,
            "grid_row": null,
            "grid_template_areas": null,
            "grid_template_columns": null,
            "grid_template_rows": null,
            "height": "24px",
            "justify_content": null,
            "justify_items": null,
            "left": null,
            "margin": null,
            "max_height": null,
            "max_width": null,
            "min_height": null,
            "min_width": null,
            "object_fit": null,
            "object_position": null,
            "order": null,
            "overflow": null,
            "overflow_x": null,
            "overflow_y": null,
            "padding": null,
            "right": null,
            "top": null,
            "visibility": null,
            "width": "300px"
          }
        },
        "8f0a2974c37d443a86b988fc0c4fe698": {
          "model_module": "@jupyter-widgets/controls",
          "model_name": "DescriptionStyleModel",
          "model_module_version": "1.5.0",
          "state": {
            "_model_module": "@jupyter-widgets/controls",
            "_model_module_version": "1.5.0",
            "_model_name": "DescriptionStyleModel",
            "_view_count": null,
            "_view_module": "@jupyter-widgets/base",
            "_view_module_version": "1.2.0",
            "_view_name": "StyleView",
            "description_width": ""
          }
        }
      }
    }
  },
  "nbformat": 4,
  "nbformat_minor": 0
}